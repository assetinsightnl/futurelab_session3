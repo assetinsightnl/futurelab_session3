{
 "cells": [
  {
   "cell_type": "markdown",
   "metadata": {},
   "source": [
    "# Rail defects: squats in Eddy current data\n",
    "\n",
    "For early detection of damaged rail, we use an Eddy current (https://en.wikipedia.org/wiki/Eddy-current_testing) lorry to measure the resistance of the rail tracks. From this resistance data we can identify squats (cracks) in the steel. There are three types of squats: A, B and C. Squats are classified depending on their depth and size. Can we find the relationship between these quantities and the squat type?\n",
    "\n",
    "![A squat in a rail track](squat.jpg \"A squat in a rail track\")"
   ]
  },
  {
   "cell_type": "code",
   "execution_count": null,
   "metadata": {},
   "outputs": [],
   "source": [
    "# Import libraries.\n",
    "import pandas as pd\n",
    "import numpy as np\n",
    "import matplotlib.pyplot as plt\n",
    "from matplotlib.colors import ListedColormap\n",
    "from sklearn.svm import LinearSVC, SVC\n",
    "from sklearn.metrics import confusion_matrix\n",
    "from sklearn.model_selection import train_test_split"
   ]
  },
  {
   "cell_type": "code",
   "execution_count": null,
   "metadata": {},
   "outputs": [],
   "source": [
    "# Read data.\n",
    "df = pd.read_csv('squats.csv', delimiter=',')[['max_depth', 'size', 'type_vid']]\n",
    "df.head()"
   ]
  },
  {
   "cell_type": "code",
   "execution_count": null,
   "metadata": {},
   "outputs": [],
   "source": [
    "# Organize into train and test data.\n",
    "type_dict = {'Squat - A': 0, 'Squat - B': 1, 'Squat - C': 2}\n",
    "X = np.array(df[['max_depth', 'size']])\n",
    "y = np.array([type_dict[tp] for tp in df['type_vid']])\n",
    "X_train, X_test, y_train, y_test = train_test_split(X, y, test_size=0.33, random_state=42)\n",
    "print(\"Data size: \", X.shape, y.shape)\n",
    "print(\"Train size: \", X_train.shape, y_train.shape)\n",
    "print(\"Test size: \", X_test.shape, y_test.shape)"
   ]
  },
  {
   "cell_type": "code",
   "execution_count": null,
   "metadata": {},
   "outputs": [],
   "source": [
    "# Define model.\n",
    "# -------------\n",
    "# See https://scikit-learn.org/stable/modules/generated/sklearn.svm.LinearSVC.html\n",
    "# and https://scikit-learn.org/stable/modules/generated/sklearn.svm.SVC.html\n",
    "#\n",
    "# Hint: class_weight can be None or 'balanced', or you can define individual class weights \n",
    "# in a dictionary, e.g. class_weight={0: 5.0, 1: 1.0, 2: 4.0}.\n",
    "\n",
    "clf = LinearSVC(max_iter=100000, class_weight='balanced', random_state=0)\n",
    "# clf = SVC(C=1.0, kernel='poly', gamma=0.05, random_state=0, class_weight='balanced')\n",
    "\n",
    "# Fit training set and score test set.\n",
    "clf.fit(X_train, y_train)\n",
    "print(\"Accuracy on test set: \", clf.score(X_test, y_test))"
   ]
  },
  {
   "cell_type": "code",
   "execution_count": null,
   "metadata": {},
   "outputs": [],
   "source": [
    "# Plot the decision boundary.\n",
    "def plot_decision_boundary(model, X_data, y_data):\n",
    "    x_min, x_max = X_data[:, 0].min() - 1, X_data[:, 0].max() + 1\n",
    "    y_min, y_max = X_data[:, 1].min() - 1, X_data[:, 1].max() + 1\n",
    "    xx, yy = np.meshgrid(np.arange(x_min, x_max, (x_max-x_min)/500),\n",
    "                         np.arange(y_min, y_max, (y_max-y_min)/500))\n",
    "    Z = model.predict(np.c_[xx.ravel(), yy.ravel()])\n",
    "    Z = Z.reshape(xx.shape)\n",
    "    plt.figure(figsize=(8, 6))\n",
    "    cmap_light = ListedColormap(['#FFAAAA', '#AAFFAA', '#AAAAFF'])\n",
    "    cmap_bold = ListedColormap(['#FF0000', '#00FF00', '#0000FF'])\n",
    "    plt.pcolormesh(xx, yy, Z, cmap=cmap_light)\n",
    "    plt.scatter(X_data[:, 0], X_data[:, 1], c=y_data, cmap=cmap_bold,\n",
    "                edgecolor='k', s=20)\n",
    "    plt.xlim(xx.min(), xx.max())\n",
    "    plt.ylim(yy.min(), yy.max())\n",
    "    plt.title(\"Classification of squats - red: A, green: B, blue: C.\")\n",
    "    plt.xlabel(\"max depth\")\n",
    "    plt.ylabel(\"size\")\n",
    "    plt.show()\n",
    "    \n",
    "print(\"Train data:\")\n",
    "plot_decision_boundary(clf, X_train, y_train)\n",
    "\n",
    "print(\"Test data:\")\n",
    "plot_decision_boundary(clf, X_test, y_test)"
   ]
  },
  {
   "cell_type": "code",
   "execution_count": null,
   "metadata": {},
   "outputs": [],
   "source": [
    "# Print confusion matrix on test set\n",
    "# Horizontal: actual class; vertical: predicted class\n",
    "classes = ['Squat - A', 'Squat - B', 'Squat - C']\n",
    "conf_matrix = confusion_matrix(y_test, clf.predict(X_test), labels=[0, 1, 2])\n",
    "pd.DataFrame(data=conf_matrix.T, columns=classes, index=classes)"
   ]
  },
  {
   "cell_type": "code",
   "execution_count": null,
   "metadata": {},
   "outputs": [],
   "source": []
  }
 ],
 "metadata": {
  "kernelspec": {
   "display_name": "Python 3",
   "language": "python",
   "name": "python3"
  },
  "language_info": {
   "codemirror_mode": {
    "name": "ipython",
    "version": 3
   },
   "file_extension": ".py",
   "mimetype": "text/x-python",
   "name": "python",
   "nbconvert_exporter": "python",
   "pygments_lexer": "ipython3",
   "version": "3.7.1"
  }
 },
 "nbformat": 4,
 "nbformat_minor": 2
}
