{
 "cells": [
  {
   "cell_type": "markdown",
   "metadata": {},
   "source": [
    "# Neural networks\n",
    "\n",
    "In this exercise we apply a neural network to classify two artificial datasets."
   ]
  },
  {
   "cell_type": "code",
   "execution_count": null,
   "metadata": {},
   "outputs": [],
   "source": [
    "import numpy as np\n",
    "from matplotlib import pyplot as plt\n",
    "from matplotlib.colors import ListedColormap\n",
    "from sklearn.model_selection import train_test_split\n",
    "from sklearn.preprocessing import StandardScaler\n",
    "from sklearn.datasets import make_moons, make_circles\n",
    "from sklearn.neural_network import MLPClassifier"
   ]
  },
  {
   "cell_type": "markdown",
   "metadata": {},
   "source": [
    "## Artificial datasets\n",
    "\n",
    "Sklearn has some artificial datasets for model testing. If you want, you can play with the parameters of these datasets in the code below."
   ]
  },
  {
   "cell_type": "code",
   "execution_count": null,
   "metadata": {},
   "outputs": [],
   "source": [
    "# Define two artificial datasets.\n",
    "datasets = [make_moons(n_samples=1000, noise=0.3, random_state=0),\n",
    "            make_circles(n_samples=1000, noise=0.2, factor=0.5, random_state=1)]\n",
    "\n",
    "# Function for plotting a dataset.\n",
    "def plot_data(X_data, y_data):\n",
    "    cmap_light = ListedColormap(['#FFAAAA', '#AAFFAA'])\n",
    "    cmap_bold = ListedColormap(['#FF0000', '#00FF00'])\n",
    "    plt.scatter(X_data[:, 0], X_data[:, 1], c=y_data, cmap=cmap_bold,\n",
    "                edgecolor='k', s=20)\n",
    "    plt.show()\n",
    "    \n",
    "# Rescale features and plot each dataset.\n",
    "for dataset in datasets:\n",
    "    X, y = dataset\n",
    "    X = StandardScaler().fit_transform(X)\n",
    "    dataset = X, y\n",
    "    plot_data(X, y)"
   ]
  },
  {
   "cell_type": "code",
   "execution_count": null,
   "metadata": {},
   "outputs": [],
   "source": [
    "# Function for plotting decision boundary.|\n",
    "def plot_decision_boundary(model, X_data, y_data):\n",
    "    x_min, x_max = X_data[:, 0].min() - 1, X_data[:, 0].max() + 1\n",
    "    y_min, y_max = X_data[:, 1].min() - 1, X_data[:, 1].max() + 1\n",
    "    xx, yy = np.meshgrid(np.arange(x_min, x_max, (x_max-x_min)/500),\n",
    "                         np.arange(y_min, y_max, (y_max-y_min)/500))\n",
    "    Z = model.predict(np.c_[xx.ravel(), yy.ravel()])\n",
    "    Z = Z.reshape(xx.shape)\n",
    "    plt.figure(figsize=(8, 6))\n",
    "    cmap_light = ListedColormap(['#FFAAAA', '#AAFFAA'])\n",
    "    cmap_bold = ListedColormap(['#FF0000', '#00FF00'])\n",
    "    plt.pcolormesh(xx, yy, Z, cmap=cmap_light)\n",
    "    plt.scatter(X_data[:, 0], X_data[:, 1], c=y_data, cmap=cmap_bold,\n",
    "                edgecolor='k', s=20)\n",
    "    plt.xlim(xx.min(), xx.max())\n",
    "    plt.ylim(yy.min(), yy.max())\n",
    "    plt.show()"
   ]
  },
  {
   "attachments": {},
   "cell_type": "markdown",
   "metadata": {},
   "source": [
    "## Making the model\n",
    "\n",
    "sklearn has a Multi-layer Perceptron (MLP) classifier. Play with the parameters to find a decision boundary that properly classifies the artificial datasets, but does not overfit the data.\n",
    "\n",
    "Questions:\n",
    "1. What do the parameters hidden_layer_sizes and activation mean? What are good settings to use?\n",
    "2. Advanced question: use other methods (random decision trees, gradient boosting, k-NN, SVM,…) on the same datasets. What is the best model you can find?"
   ]
  },
  {
   "cell_type": "code",
   "execution_count": null,
   "metadata": {},
   "outputs": [],
   "source": [
    "# Split the first dataset.\n",
    "X, y = datasets[0]\n",
    "X_train, X_test, y_train, y_test = train_test_split(X, y, random_state=1)\n",
    "\n",
    "# Use a neural network on the first dataset.\n",
    "# See https://scikit-learn.org/stable/modules/generated/sklearn.neural_network.MLPClassifier.html for model parameters.\n",
    "# Play with the MLPClassifier parameters to get a better model!\n",
    "clf = MLPClassifier(hidden_layer_sizes=(3, 3), max_iter=1000, random_state=1, activation='relu')\n",
    "clf.fit(X_train, y_train)\n",
    "\n",
    "# Test and print decision boundary.\n",
    "print(\"Test accuracy: \", clf.score(X_test, y_test))\n",
    "plot_decision_boundary(clf, X, y)"
   ]
  },
  {
   "cell_type": "code",
   "execution_count": null,
   "metadata": {},
   "outputs": [],
   "source": [
    "# Split the second dataset.\n",
    "X, y = datasets[1]\n",
    "X_train, X_test, y_train, y_test = train_test_split(X, y, random_state=1)\n",
    "\n",
    "# Use a neural network on the first dataset.\n",
    "# See https://scikit-learn.org/stable/modules/generated/sklearn.neural_network.MLPClassifier.html for model parameters.\n",
    "# Play with the MLPClassifier parameters to get a better model!\n",
    "clf = MLPClassifier(hidden_layer_sizes=(3, 3), max_iter=1000, random_state=1, activation='relu')\n",
    "clf.fit(X_train, y_train)\n",
    "\n",
    "# Test and print decision boundary.\n",
    "print(\"Test accuracy: \", clf.score(X_test, y_test))\n",
    "plot_decision_boundary(clf, X, y)"
   ]
  },
  {
   "cell_type": "code",
   "execution_count": null,
   "metadata": {},
   "outputs": [],
   "source": []
  }
 ],
 "metadata": {
  "kernelspec": {
   "display_name": "Python 3",
   "language": "python",
   "name": "python3"
  },
  "language_info": {
   "codemirror_mode": {
    "name": "ipython",
    "version": 3
   },
   "file_extension": ".py",
   "mimetype": "text/x-python",
   "name": "python",
   "nbconvert_exporter": "python",
   "pygments_lexer": "ipython3",
   "version": "3.7.1"
  }
 },
 "nbformat": 4,
 "nbformat_minor": 2
}
