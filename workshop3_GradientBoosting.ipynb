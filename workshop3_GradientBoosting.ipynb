{
 "cells": [
  {
   "cell_type": "markdown",
   "metadata": {},
   "source": [
    "# Wine quality\n",
    "\n",
    "What is the quality of a wine, based on 11 features? Let's try to make a model using ensemble methods.\n",
    "\n",
    "![Red wine](wine.jpg \"A delicious glass of quality-8 red wine.\")"
   ]
  },
  {
   "cell_type": "code",
   "execution_count": null,
   "metadata": {},
   "outputs": [],
   "source": [
    "import pandas as pd\n",
    "import numpy as np\n",
    "import matplotlib.pyplot as plt\n",
    "from sklearn.model_selection import train_test_split\n",
    "from sklearn.neighbors import KNeighborsClassifier\n",
    "from sklearn.ensemble import RandomForestClassifier, GradientBoostingClassifier\n",
    "from sklearn.svm import SVC\n",
    "from sklearn.metrics import confusion_matrix\n",
    "from sklearn.neural_network import MLPClassifier"
   ]
  },
  {
   "cell_type": "code",
   "execution_count": null,
   "metadata": {},
   "outputs": [],
   "source": [
    "# Read data and plot the first few rows.\n",
    "df = pd.read_csv('winequality-red.csv', delimiter=';')\n",
    "df.head()"
   ]
  },
  {
   "cell_type": "markdown",
   "metadata": {},
   "source": [
    "## Data exploration\n",
    "\n",
    "Let's first see if we can find any correlations by eye. Play with the pairs of features in the feature plots, to see if you can find any good ones!"
   ]
  },
  {
   "cell_type": "code",
   "execution_count": null,
   "metadata": {},
   "outputs": [],
   "source": [
    "# Make some feature plots.\n",
    "def plot_features(feat_x, feat_y):\n",
    "    plt.figure()\n",
    "    plt.scatter(df[feat_x], df[feat_y], alpha=0.5, c=df['quality'], cmap='viridis')\n",
    "    cbar = plt.colorbar()\n",
    "    cbar.set_label('quality')\n",
    "    plt.xlabel(feat_x)\n",
    "    plt.ylabel(feat_y)\n",
    "    plt.show()\n",
    "    \n",
    "plot_features('fixed acidity', 'sulphates')\n",
    "plot_features('chlorides', 'total sulfur dioxide')"
   ]
  },
  {
   "cell_type": "markdown",
   "metadata": {},
   "source": [
    "## Class imbalance\n",
    "\n",
    "There is a class imbalance in this dataset. Let's visualize the classes by making a histogram."
   ]
  },
  {
   "cell_type": "code",
   "execution_count": null,
   "metadata": {},
   "outputs": [],
   "source": [
    "# Make train/test split. Also, check histogram of y.\n",
    "X = df[['fixed acidity', 'volatile acidity', 'citric acid', 'residual sugar', 'chlorides', \n",
    "        'free sulfur dioxide', 'total sulfur dioxide', 'density', 'pH', 'sulphates', 'alcohol']].astype(float)\n",
    "y = df['quality'].astype(int)\n",
    "X_train, X_test, y_train, y_test = train_test_split(X, y, random_state=1)\n",
    "plt.hist(y, np.linspace(2.5, 8.5, 7))\n",
    "plt.xlabel('quality')\n",
    "plt.ylabel('#')\n",
    "plt.show()"
   ]
  },
  {
   "attachments": {},
   "cell_type": "markdown",
   "metadata": {},
   "source": [
    "## Trying different models\n",
    "\n",
    "Now let's try two ensemble methods to predict wine quality from the features we measured.\n",
    "\n",
    "Questions:\n",
    "1. What do the parameters n_estimators, max_depth and random_state mean? What are good values for these parameters? Did you find other useful parameters?\n",
    "2. What are the differences in the results between the random forest and gradient boosting methods?"
   ]
  },
  {
   "cell_type": "code",
   "execution_count": null,
   "metadata": {},
   "outputs": [],
   "source": [
    "# Change the RandomForestClassfier parameters to make a better model!\n",
    "# See: https://scikit-learn.org/stable/modules/generated/sklearn.ensemble.RandomForestClassifier.html\n",
    "clf = RandomForestClassifier(n_estimators=3, max_depth=2, random_state=0)\n",
    "clf.fit(X_train, y_train)\n",
    "print(\"Accuracy on train set: \", clf.score(X_train, y_train))\n",
    "print(\"Accuracy on test set: \", clf.score(X_test, y_test))\n",
    "\n",
    "# Print histogram\n",
    "plt.hist(y_test, np.linspace(2.5, 8.5, 7), alpha=0.5, label=\"true labels\")\n",
    "plt.hist(clf.predict(X_test), np.linspace(2.5, 8.5, 7), alpha=0.5, label=\"predicted labels\")\n",
    "plt.legend()\n",
    "plt.show()\n",
    "\n",
    "# Print confusion matrix on test set\n",
    "# Horizontal: actual class; vertical: predicted class\n",
    "classes = [3, 4, 5, 6, 7, 8]\n",
    "conf_matrix = confusion_matrix(y_test, clf.predict(X_test), labels=classes)\n",
    "pd.DataFrame(data=conf_matrix.T, columns=classes, index=classes)"
   ]
  },
  {
   "cell_type": "code",
   "execution_count": null,
   "metadata": {},
   "outputs": [],
   "source": [
    "# Change the GradientBoostingClassifier parameters to make a better model!\n",
    "# See: https://scikit-learn.org/stable/modules/generated/sklearn.ensemble.GradientBoostingClassifier.html\n",
    "clf = GradientBoostingClassifier(n_estimators=2, learning_rate=1, max_depth=2, random_state=0)\n",
    "clf.fit(X_train, y_train)\n",
    "print(\"Accuracy on train set: \", clf.score(X_train, y_train))\n",
    "print(\"Accuracy on test set: \", clf.score(X_test, y_test))\n",
    "\n",
    "# Print histogram\n",
    "plt.hist(y_test, np.linspace(2.5, 8.5, 7), alpha=0.5, label=\"true labels\")\n",
    "plt.hist(clf.predict(X_test), np.linspace(2.5, 8.5, 7), alpha=0.5, label=\"predicted labels\")\n",
    "plt.legend()\n",
    "plt.show()\n",
    "\n",
    "# Print confusion matrix on test set\n",
    "# Horizontal: actual class; vertical: predicted class\n",
    "classes = [3, 4, 5, 6, 7, 8]\n",
    "conf_matrix = confusion_matrix(y_test, clf.predict(X_test), labels=classes)\n",
    "pd.DataFrame(data=conf_matrix.T, columns=classes, index=classes)"
   ]
  },
  {
   "cell_type": "code",
   "execution_count": null,
   "metadata": {},
   "outputs": [],
   "source": []
  }
 ],
 "metadata": {
  "kernelspec": {
   "display_name": "Python 3",
   "language": "python",
   "name": "python3"
  },
  "language_info": {
   "codemirror_mode": {
    "name": "ipython",
    "version": 3
   },
   "file_extension": ".py",
   "mimetype": "text/x-python",
   "name": "python",
   "nbconvert_exporter": "python",
   "pygments_lexer": "ipython3",
   "version": "3.7.1"
  }
 },
 "nbformat": 4,
 "nbformat_minor": 2
}
